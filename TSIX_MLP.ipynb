{
  "nbformat": 4,
  "nbformat_minor": 0,
  "metadata": {
    "colab": {
      "provenance": []
    },
    "kernelspec": {
      "name": "python3",
      "display_name": "Python 3"
    },
    "language_info": {
      "name": "python"
    }
  },
  "cells": [
    {
      "cell_type": "code",
      "execution_count": null,
      "metadata": {
        "id": "jpEAc_1Pe9_O"
      },
      "outputs": [],
      "source": [
        "import torch\n",
        "import torch.nn as nn\n",
        "import torch.nn.functional as F\n",
        "from torch.utils.data import DataLoader, Dataset, random_split\n",
        "import torch.optim as optim\n",
        "\n",
        "import numpy as np\n",
        "import pandas as pd\n",
        "import math\n",
        "\n",
        "from sklearn.preprocessing import OneHotEncoder, MinMaxScaler, LabelEncoder\n",
        "from sklearn.decomposition import PCA\n",
        "\n",
        "import matplotlib.pyplot as plt\n",
        "import seaborn as sns\n",
        "import plotly.graph_objects as go\n",
        "\n",
        "from sklearn.metrics import confusion_matrix, precision_score, recall_score, accuracy_score, f1_score"
      ]
    },
    {
      "cell_type": "code",
      "source": [
        "norm_trainset = pd.read_csv('final_trainset.csv')\n",
        "norm_testset = pd.read_csv('final_testset.csv')"
      ],
      "metadata": {
        "id": "Vozz8oqpKcXQ"
      },
      "execution_count": null,
      "outputs": []
    },
    {
      "cell_type": "code",
      "source": [
        "norm_trainset['label'] = norm_trainset['label'].astype(float)"
      ],
      "metadata": {
        "id": "wxrHcIN9jvny"
      },
      "execution_count": null,
      "outputs": []
    },
    {
      "cell_type": "code",
      "source": [
        "class TabularDataset(Dataset):\n",
        "  def __init__(self, data, labels):\n",
        "    self.data = torch.tensor(data.values, dtype=torch.float32)\n",
        "    self.labels = torch.tensor(labels.values, dtype=torch.float32)\n",
        "\n",
        "  def __len__(self):\n",
        "    return len(self.data)\n",
        "\n",
        "  def __getitem__(self, idx):\n",
        "    return self.data[idx], self.labels[idx]"
      ],
      "metadata": {
        "id": "Ug7U7OpoZTGu"
      },
      "execution_count": null,
      "outputs": []
    },
    {
      "cell_type": "code",
      "source": [
        "class MLP(nn.Module):\n",
        "  def __init__(self, num_features, num_classes=1):\n",
        "    super(MLP, self).__init__()\n",
        "    self.fc1 = nn.Linear(num_features, 64)\n",
        "    self.fc2 = nn.Linear(64, 32)\n",
        "    self.fc3 = nn.Linear(32, num_classes)\n",
        "\n",
        "  def forward(self, x):\n",
        "    x = F.relu(self.fc1(x))\n",
        "    x = F.relu(self.fc2(x))\n",
        "    x = self.fc3(x)\n",
        "    return x"
      ],
      "metadata": {
        "id": "rQ3tXk_Sknka"
      },
      "execution_count": null,
      "outputs": []
    },
    {
      "cell_type": "code",
      "source": [
        "def train_model(model, train_loader, criterion, optimizer, num_epochs=10):\n",
        "    model.train()\n",
        "    for epoch in range(num_epochs):\n",
        "        running_loss = 0.0\n",
        "        for data, target in train_loader:\n",
        "            optimizer.zero_grad()  # Clear gradients\n",
        "            output = model(data)  # Forward pass\n",
        "            loss = criterion(output, target.view(-1, 1))  # Calculate loss\n",
        "            loss.backward()  # Backward pass\n",
        "            optimizer.step()  # Update weights\n",
        "            running_loss += loss.item()\n",
        "        print(f'Epoch [{epoch+1}/{num_epochs}], Loss: {running_loss/len(train_loader):.4f}')\n",
        "\n",
        "# Fungsi untuk mengevaluasi model\n",
        "def evaluate_model(model, test_loader):\n",
        "    model.eval()\n",
        "    all_targets = []\n",
        "    all_predictions = []\n",
        "    correct = 0\n",
        "    total = 0\n",
        "    with torch.no_grad():\n",
        "        for data, target in test_loader:\n",
        "            output = model(data)\n",
        "            predicted = (output > 0.5).float()  # Thresholding\n",
        "            total += target.size(0)\n",
        "            correct += (predicted.view(-1) == target).sum().item()\n",
        "            all_targets.extend(target.cpu().numpy())\n",
        "            all_predictions.extend(predicted.view(-1).cpu().numpy())\n",
        "\n",
        "    accuracy = 100 * correct / total\n",
        "    print(f'Accuracy of the model on the test set: {accuracy:.4f}%')\n",
        "\n",
        "    conf_matrix = confusion_matrix(all_targets, all_predictions)\n",
        "    precision = precision_score(all_targets, all_predictions)\n",
        "    recall = recall_score(all_targets, all_predictions)\n",
        "    f1 = f1_score(all_targets, all_predictions)\n",
        "\n",
        "    print(f'Precision: {precision:.4f}')\n",
        "    print(f'Recall: {recall:.4f}')\n",
        "    print(f'Accuracy: {accuracy:.4f}')\n",
        "    print(f'F1 Score: {f1:.4f}')\n",
        "\n",
        "    print(\"Confusion Matrix:\")\n",
        "    plt.figure(figsize=(8, 6))\n",
        "    sns.heatmap(conf_matrix, annot=True, fmt='d', cmap='Blues', cbar=False)\n",
        "    plt.xlabel('Predicted')\n",
        "    plt.ylabel('True')\n",
        "    plt.title('Confusion Matrix')\n",
        "    plt.show()"
      ],
      "metadata": {
        "id": "jtbeCkKwjHJJ"
      },
      "execution_count": null,
      "outputs": []
    },
    {
      "cell_type": "code",
      "source": [
        "torch.manual_seed(42)\n",
        "\n",
        "X = norm_trainset.iloc[:, :-1]\n",
        "y = norm_trainset.iloc[:, -1]\n",
        "\n",
        "dataset = TabularDataset(X, y)\n",
        "train_size = int(0.8 * len(dataset))\n",
        "val_size = len(dataset) - train_size\n",
        "\n",
        "train_dataset, val_dataset = random_split(dataset, [train_size, val_size])\n",
        "\n",
        "train_loader = DataLoader(train_dataset, batch_size=32, shuffle=True)\n",
        "val_loader = DataLoader(val_dataset, batch_size=32, shuffle=False)"
      ],
      "metadata": {
        "id": "fNmZEt3ObraH"
      },
      "execution_count": null,
      "outputs": []
    },
    {
      "cell_type": "code",
      "source": [
        "num_features = X.shape[1]\n",
        "lr = 0.001\n",
        "epochs = 20\n",
        "\n",
        "num_class_0 = (y == 0).sum()\n",
        "num_class_1 = (y == 1).sum()\n",
        "\n",
        "model = MLP(num_features=num_features)\n",
        "pos_weight = torch.tensor([num_class_0 / num_class_1])\n",
        "criterion = nn.BCEWithLogitsLoss(pos_weight=pos_weight)\n",
        "optimizer = optim.Adam(model.parameters(), lr=lr)"
      ],
      "metadata": {
        "id": "ecNiPu8-c97T"
      },
      "execution_count": null,
      "outputs": []
    },
    {
      "cell_type": "code",
      "source": [
        "# Melatih model\n",
        "train_model(model, train_loader, criterion, optimizer, num_epochs=20)"
      ],
      "metadata": {
        "colab": {
          "base_uri": "https://localhost:8080/"
        },
        "id": "-09fOiGajLLE",
        "outputId": "23a06780-7746-47c3-aab4-6e113f28aa71"
      },
      "execution_count": null,
      "outputs": [
        {
          "output_type": "stream",
          "name": "stdout",
          "text": [
            "Epoch [1/20], Loss: 0.1083\n",
            "Epoch [2/20], Loss: 0.0904\n",
            "Epoch [3/20], Loss: 0.0866\n",
            "Epoch [4/20], Loss: 0.0845\n",
            "Epoch [5/20], Loss: 0.0830\n",
            "Epoch [6/20], Loss: 0.0821\n",
            "Epoch [7/20], Loss: 0.0815\n",
            "Epoch [8/20], Loss: 0.0807\n",
            "Epoch [9/20], Loss: 0.0804\n",
            "Epoch [10/20], Loss: 0.0797\n",
            "Epoch [11/20], Loss: 0.0792\n",
            "Epoch [12/20], Loss: 0.0788\n",
            "Epoch [13/20], Loss: 0.0783\n",
            "Epoch [14/20], Loss: 0.0778\n",
            "Epoch [15/20], Loss: 0.0778\n",
            "Epoch [16/20], Loss: 0.0774\n",
            "Epoch [17/20], Loss: 0.0770\n",
            "Epoch [18/20], Loss: 0.0766\n",
            "Epoch [19/20], Loss: 0.0765\n",
            "Epoch [20/20], Loss: 0.0763\n"
          ]
        }
      ]
    },
    {
      "cell_type": "code",
      "source": [
        "evaluate_model(model, val_loader)"
      ],
      "metadata": {
        "colab": {
          "base_uri": "https://localhost:8080/",
          "height": 637
        },
        "id": "mHfmLorVlpjN",
        "outputId": "87501041-e28b-4ddb-b8d1-f34a0c2e3aa3"
      },
      "execution_count": null,
      "outputs": [
        {
          "output_type": "stream",
          "name": "stdout",
          "text": [
            "Accuracy of the model on the test set: 92.4235%\n",
            "Precision: 0.9871\n",
            "Recall: 0.8999\n",
            "Accuracy: 92.4235\n",
            "F1 Score: 0.9415\n",
            "Confusion Matrix:\n"
          ]
        },
        {
          "output_type": "display_data",
          "data": {
            "text/plain": [
              "<Figure size 800x600 with 1 Axes>"
            ],
            "image/png": "[encoded data removed]"
          },
          "metadata": {}
        }
      ]
    },
    {
      "cell_type": "code",
      "source": [
        "X_test = norm_testset.iloc[:, :-1]\n",
        "y_test = norm_testset.iloc[:, -1]\n",
        "\n",
        "test_dataset = TabularDataset(X_test, y_test)\n",
        "test_loader = DataLoader(test_dataset, batch_size=32, shuffle=False)\n",
        "\n",
        "evaluate_model(model, test_loader)"
      ],
      "metadata": {
        "id": "AomgFsK8kaL4",
        "colab": {
          "base_uri": "https://localhost:8080/",
          "height": 637
        },
        "outputId": "051a530d-9ff6-4de2-e168-6cd77e6e0845"
      },
      "execution_count": null,
      "outputs": [
        {
          "output_type": "stream",
          "name": "stdout",
          "text": [
            "Accuracy of the model on the test set: 91.2294%\n",
            "Precision: 0.9239\n",
            "Recall: 0.9161\n",
            "Accuracy: 91.2294\n",
            "F1 Score: 0.9200\n",
            "Confusion Matrix:\n"
          ]
        },
        {
          "output_type": "display_data",
          "data": {
            "text/plain": [
              "<Figure size 800x600 with 1 Axes>"
            ],
            "image/png": "[encoded data removed]"
          },
          "metadata": {}
        }
      ]
    },
    {
      "cell_type": "code",
      "source": [],
      "metadata": {
        "id": "z1aUOKgtomuO"
      },
      "execution_count": null,
      "outputs": []
    }
  ]
}